{
  "nbformat": 4,
  "nbformat_minor": 0,
  "metadata": {
    "colab": {
      "provenance": [],
      "authorship_tag": "ABX9TyNVIWtJYIUSl3L69dzPZ7e8",
      "include_colab_link": true
    },
    "kernelspec": {
      "name": "python3",
      "display_name": "Python 3"
    },
    "language_info": {
      "name": "python"
    }
  },
  "cells": [
    {
      "cell_type": "markdown",
      "metadata": {
        "id": "view-in-github",
        "colab_type": "text"
      },
      "source": [
        "<a href=\"https://colab.research.google.com/github/Anhpq2204/CS50/blob/main/Untitled2.ipynb\" target=\"_parent\"><img src=\"https://colab.research.google.com/assets/colab-badge.svg\" alt=\"Open In Colab\"/></a>"
      ]
    },
    {
      "cell_type": "code",
      "execution_count": 43,
      "metadata": {
        "colab": {
          "base_uri": "https://localhost:8080/"
        },
        "id": "RYm2-JOZkuQ3",
        "outputId": "25f30942-c893-4e03-a51a-25f4d6218ea5"
      },
      "outputs": [
        {
          "output_type": "stream",
          "name": "stdout",
          "text": [
            "[4 2 1 8 9]\n",
            "[9 7 5 4 2]\n"
          ]
        }
      ],
      "source": [
        "import numpy as np\n",
        "a=np.array([4,2,1,8,9])#cat\n",
        "b=np.array([9,7,5,4,2])#dog\n",
        "print(a)\n",
        "print(b)"
      ]
    },
    {
      "cell_type": "code",
      "source": [
        "def calculate(a,c):\n",
        "  z=c-a[0]\n",
        "  for i in range(len(a)):\n",
        "    if(c-a[i]<z):\n",
        "      z=c-a[i]\n",
        "  return z\n",
        "c=(int)(input('Nhap n'))\n",
        "dis1=calculate(a,c)\n",
        "dis2=calculate(b,c)\n",
        "if(dis1>dis2):\n",
        "  print('dog')\n",
        "else:\n",
        "  print('cat')\n"
      ],
      "metadata": {
        "colab": {
          "base_uri": "https://localhost:8080/"
        },
        "id": "P_yoFgtHmTgk",
        "outputId": "3888ab17-4c6a-49a3-cc15-89044ff40bf0"
      },
      "execution_count": 44,
      "outputs": [
        {
          "output_type": "stream",
          "name": "stdout",
          "text": [
            "Nhap n7\n",
            "cat\n"
          ]
        }
      ]
    }
  ]
}